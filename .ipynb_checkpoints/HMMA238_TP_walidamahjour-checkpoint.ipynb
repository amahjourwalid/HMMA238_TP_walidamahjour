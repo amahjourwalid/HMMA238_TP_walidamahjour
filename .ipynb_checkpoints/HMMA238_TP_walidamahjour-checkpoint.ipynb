{
 "cells": [
  {
   "cell_type": "markdown",
   "metadata": {},
   "source": [
    "# AMAHJOUR Walid TP \" Le jeu de la vie\"\n"
   ]
  },
  {
   "cell_type": "markdown",
   "metadata": {},
   "source": [
    "# Sommaire \n"
   ]
  },
  {
   "cell_type": "code",
   "execution_count": 20,
   "metadata": {},
   "outputs": [],
   "source": [
    "import numpy as np\n",
    "import matplotlib.pyplot as plt\n",
    "from matplotlib import animation"
   ]
  },
  {
   "cell_type": "code",
   "execution_count": 21,
   "metadata": {},
   "outputs": [
    {
     "name": "stdout",
     "output_type": "stream",
     "text": [
      "le reste est 0.\n"
     ]
    }
   ],
   "source": [
    "filename = \"HMMA238_TP_walidamahjour.ipynb\"\n",
    "taille_str = len(filename)\n",
    "ma_graine = taille_str % 6\n",
    "print(\"le reste est {}.\".format(ma_graine))"
   ]
  },
  {
   "cell_type": "code",
   "execution_count": 22,
   "metadata": {},
   "outputs": [],
   "source": [
    "def calcul_nb_voisins(Z):\n",
    "    \"\"\" \n",
    "    La fonction calcul le nombre de voisins vivants de chaque cellule dans la mtrice Z \n",
    "       (si cette derinère ne quontient que 0 et 1) .\n",
    "    Argument : Z-liste de listes\n",
    "    Returns : N matrice de même taille que Z ou chaque élément est la somme des 8 coéfficients des cellules voisines \n",
    "    \n",
    "    \"\"\"\n",
    "    forme = len(Z), len(Z[0])##\n",
    "    N = [[0, ] * (forme[0]) for i in range(forme[1])]\n",
    "    for x in range(1, forme[0] - 1):\n",
    "        for y in range(1, forme[1] - 1):\n",
    "            N[x][y] = Z[x-1][y-1]+Z[x][y-1]+Z[x+1][y-1] \\\n",
    "              + Z[x-1][y] + 0 +Z[x+1][y] \\\n",
    "            + Z[x-1][y+1]+Z[x][y+1]+Z[x+1][y+1]\n",
    "    return N"
   ]
  },
  {
   "cell_type": "code",
   "execution_count": 23,
   "metadata": {},
   "outputs": [],
   "source": [
    "Z = [[0,0,0,0,0,0],\n",
    "    [0,0,0,1,0,0],\n",
    "    [0,1,0,1,0,0],\n",
    "    [0,0,1,1,0,0],\n",
    "    [0,0,0,0,0,0],\n",
    "    [0,0,0,0,0,0]]"
   ]
  },
  {
   "cell_type": "code",
   "execution_count": 24,
   "metadata": {},
   "outputs": [
    {
     "data": {
      "text/plain": [
       "[[0, 0, 0, 0, 0, 0],\n",
       " [0, 1, 3, 1, 2, 0],\n",
       " [0, 1, 5, 3, 3, 0],\n",
       " [0, 2, 3, 2, 2, 0],\n",
       " [0, 1, 2, 2, 1, 0],\n",
       " [0, 0, 0, 0, 0, 0]]"
      ]
     },
     "execution_count": 24,
     "metadata": {},
     "output_type": "execute_result"
    }
   ],
   "source": [
    "calcul_nb_voisins(Z)"
   ]
  },
  {
   "cell_type": "markdown",
   "metadata": {},
   "source": [
    "calcul nb_voisin calcul le nombre de voisin de chaque cellule sans prendre en compte la première et la dernière ligne et la première et la dernière colone \n"
   ]
  },
  {
   "cell_type": "code",
   "execution_count": 25,
   "metadata": {},
   "outputs": [],
   "source": [
    "def iteration_jeu(Z):\n",
    "    \n",
    "    \"\"\" \n",
    "     \n",
    "    Arguments :Z-liste de listes (matrice)\n",
    "    Returns   :Z liste de listes représentant l'état des cellules après une itteration  \n",
    "    \n",
    "    \n",
    "    \n",
    "    Realisation d'une itertion du jeu de la vie avec une matrice \n",
    "    (si la cellule est vivante  et son nombre de voisins et (0 ou 1) ou bien (N[x][y]>3) la cellule meurt donc reçoit 0 )\n",
    "     (si la cellule est morte est son nobre de voisins est égale à 3 elle renaît donc reçoit 1 )\n",
    "    \"\"\"    \n",
    "    forme = len(Z), len(Z[0])\n",
    "    N = calcul_nb_voisins(Z)\n",
    "    for x in range(1,forme[0]-1):\n",
    "        for y in range(1,forme[1]-1):\n",
    "            if Z[x][y] == 1 and (N[x][y] < 2 or N[x][y] > 3):\n",
    "                Z[x][y] = 0\n",
    "            elif Z[x][y] == 0 and N[x][y] == 3:\n",
    "                 Z[x][y] = 1\n",
    "    return Z"
   ]
  },
  {
   "cell_type": "code",
   "execution_count": 26,
   "metadata": {},
   "outputs": [
    {
     "name": "stdout",
     "output_type": "stream",
     "text": [
      "[[0, 0, 0, 0, 0, 0], [0, 0, 1, 0, 0, 0], [0, 0, 0, 1, 1, 0], [0, 0, 1, 1, 0, 0], [0, 0, 0, 0, 0, 0], [0, 0, 0, 0, 0, 0]]\n"
     ]
    }
   ],
   "source": [
    "N=iteration_jeu(Z)\n",
    "print(N)"
   ]
  },
  {
   "cell_type": "code",
   "execution_count": 27,
   "metadata": {},
   "outputs": [],
   "source": [
    "def affichage_9(Z):\n",
    "    \"\"\"\n",
    "    Arguments : Z - liste de listes\n",
    "    Returns   : Image (10 figures )\n",
    "    \n",
    "    \"\"\"\n",
    "    plt.subplots(figsize=(25,15)) # céer plusieurs plots de taille 25x15 \n",
    "    for i in range(10):\n",
    "        axs = plt.subplot(2,5,i+1)# creation de chaque subplot en 2 lignes et 5 colonnes \n",
    "        plt.imshow(Z,cmap=\"binary\", extent=[0,len(Z[0]),0,len(Z)],) # on utilise plt.imshow pour délimiter le cadre suivant les coordonnées(extent=..) que l'image remplira \n",
    "        plt.grid(True) # ajouter des grilles \n",
    "        axs.set_xticks(range(0,len(Z[0]),1,))\n",
    "        plt.title('Itération ' + str(i)) # ajouter le titre de chaque itertion \n",
    "               \n",
    "        Z = iteration_jeu(Z) \n",
    "\n",
    "    plt.show() # afficher toutes les figures "
   ]
  },
  {
   "cell_type": "code",
   "execution_count": 9,
   "metadata": {},
   "outputs": [
    {
     "data": {
      "image/png": "[encoded data removed]",
      "text/plain": [
       "<Figure size 1800x1080 with 10 Axes>"
      ]
     },
     "metadata": {
      "needs_background": "light"
     },
     "output_type": "display_data"
    }
   ],
   "source": [
    "affichage_9(Z)"
   ]
  },
  {
   "cell_type": "markdown",
   "metadata": {},
   "source": [
    "on remarque qu'à partir de la 7 éme iteration, le nombre de cellule vivantes se stabilise à 4 "
   ]
  },
  {
   "cell_type": "code",
   "execution_count": 28,
   "metadata": {},
   "outputs": [],
   "source": [
    "# q 7\n",
    "vect = np.array([0,1,0,0,1,1])\n",
    "nb_vect = np.zeros(vect.shape)\n",
    "nb_vect[1:-1] += (vect[:-2] + vect[2:])\n",
    "## le nb_vect represente le nombre de voisins vivants de chaque cellule, et on a toujours des zeros dans les extremitées(les bornes ne sont pas comptées )\n",
    "\n"
   ]
  },
  {
   "cell_type": "code",
   "execution_count": 29,
   "metadata": {},
   "outputs": [],
   "source": [
    "# q 8\n",
    "Z=np.asarray(Z)\n",
    "def calcul_nb_voisins_np(Z):\n",
    "    \n",
    "    N= np.zeros(np.shape(Z))\n",
    "    N[1:-1, 1:-1] = Z[0:-2, 0:-2] + Z[:-2, 2:] + Z[2:, :-2] + Z[:-2, 1:-1] + \\\n",
    "        Z[1:-1, 2:] + Z[1:-1, :-2] + Z[2:, 1:-1] + Z[2:, 2:]\n",
    "    return(N)   \n",
    "    "
   ]
  },
  {
   "cell_type": "code",
   "execution_count": 30,
   "metadata": {},
   "outputs": [
    {
     "data": {
      "text/plain": [
       "array([[0., 0., 0., 0., 0., 0.],\n",
       "       [0., 1., 1., 3., 2., 0.],\n",
       "       [0., 2., 4., 4., 2., 0.],\n",
       "       [0., 1., 2., 3., 3., 0.],\n",
       "       [0., 1., 2., 2., 1., 0.],\n",
       "       [0., 0., 0., 0., 0., 0.]])"
      ]
     },
     "execution_count": 30,
     "metadata": {},
     "output_type": "execute_result"
    }
   ],
   "source": [
    "calcul_nb_voisins_np(Z)"
   ]
  },
  {
   "cell_type": "code",
   "execution_count": 49,
   "metadata": {},
   "outputs": [],
   "source": [
    "# q 9\n",
    "def iteration_jeu_np(Z):\n",
    "   \n",
    "    Z = np.array(Z)\n",
    "    a= Z\n",
    "    N = calcul_nb_voisins_np(Z)\n",
    "    etou = np.where((a == 1) & ((N == 1) | (N > 3)))\n",
    "    Z[etou] = 0\n",
    "    nn= np.where((a == 0) & (N == 3))\n",
    "    Z[nn] = 1\n",
    "    return Z"
   ]
  },
  {
   "cell_type": "code",
   "execution_count": 50,
   "metadata": {},
   "outputs": [
    {
     "data": {
      "text/plain": [
       "array([[0, 0, 0, 0, 0, 0],\n",
       "       [0, 0, 1, 0, 0, 0],\n",
       "       [0, 0, 0, 1, 1, 0],\n",
       "       [0, 0, 1, 1, 0, 0],\n",
       "       [0, 0, 0, 0, 0, 0],\n",
       "       [0, 0, 0, 0, 0, 0]])"
      ]
     },
     "execution_count": 50,
     "metadata": {},
     "output_type": "execute_result"
    }
   ],
   "source": [
    "Z = [[0,0,0,0,0,0],\n",
    "    [0,0,0,1,0,0],\n",
    "    [0,1,0,1,0,0],\n",
    "    [0,0,1,1,0,0],\n",
    "    [0,0,0,0,0,0],\n",
    "    [0,0,0,0,0,0]]\n",
    "iteration_jeu_np(Z)\n",
    "\n"
   ]
  },
  {
   "cell_type": "code",
   "execution_count": 77,
   "metadata": {},
   "outputs": [],
   "source": [
    "# q 10\n",
    "def jeu_np(Z_in, nb_iter):\n",
    "    while nb_iter != 0:\n",
    "            Z_in=iteration_jeu_np(Z_in)\n",
    "            nb_iter=nb_iter-1\n",
    "    return (Z_in)"
   ]
  },
  {
   "cell_type": "code",
   "execution_count": 38,
   "metadata": {},
   "outputs": [
    {
     "data": {
      "text/plain": [
       "array([[0, 0, 0, 0, 0, 0],\n",
       "       [0, 0, 0, 0, 0, 0],\n",
       "       [0, 1, 0, 0, 0, 0],\n",
       "       [0, 0, 0, 0, 0, 0],\n",
       "       [0, 0, 1, 0, 1, 0],\n",
       "       [0, 0, 0, 0, 0, 0]])"
      ]
     },
     "execution_count": 38,
     "metadata": {},
     "output_type": "execute_result"
    }
   ],
   "source": [
    "Z = [[0,0,0,0,0,0],\n",
    "    [0,1,0,1,0,0],\n",
    "    [0,1,0,1,0,0],\n",
    "    [0,0,1,1,1,0],\n",
    "    [0,0,0,1,1,0],\n",
    "    [0,0,0,0,0,0]]\n",
    "jeu_np(Z,100)"
   ]
  },
  {
   "cell_type": "code",
   "execution_count": 95,
   "metadata": {},
   "outputs": [],
   "source": [
    "from matplotlib import animation\n",
    "def animation(Z_in,nb_iter):\n",
    "    def init(Z_in):\n",
    "        plt.figure()\n",
    "        fig = plt.gcf()\n",
    "        im = plt.imshow(Z_in, cmap='binary')\n",
    "        plt.show()\n",
    "        return im,\n",
    "\n",
    "    def animate(frame):\n",
    "        Z_iter=jeu_np(Z_in,nb_iter)\n",
    "        im.set_data(Z_iter)\n",
    "        return im,\n",
    "\n",
    "    anim = animation.FuncAnimation(fig, animate, init_func=init,frames=nb_iter)\n",
    "    return(anim)\n"
   ]
  },
  {
   "cell_type": "code",
   "execution_count": 96,
   "metadata": {},
   "outputs": [
    {
     "ename": "AttributeError",
     "evalue": "'function' object has no attribute 'FuncAnimation'",
     "output_type": "error",
     "traceback": [
      "\u001b[1;31m---------------------------------------------------------------------------\u001b[0m",
      "\u001b[1;31mAttributeError\u001b[0m                            Traceback (most recent call last)",
      "\u001b[1;32m<ipython-input-96-18e0c1772a22>\u001b[0m in \u001b[0;36m<module>\u001b[1;34m\u001b[0m\n\u001b[1;32m----> 1\u001b[1;33m \u001b[0manimation\u001b[0m\u001b[1;33m(\u001b[0m\u001b[0mZ\u001b[0m\u001b[1;33m,\u001b[0m\u001b[1;36m40\u001b[0m\u001b[1;33m)\u001b[0m\u001b[1;33m\u001b[0m\u001b[1;33m\u001b[0m\u001b[0m\n\u001b[0m",
      "\u001b[1;32m<ipython-input-95-ce380b3ff30f>\u001b[0m in \u001b[0;36manimation\u001b[1;34m(Z_in, nb_iter)\u001b[0m\n\u001b[0;32m     13\u001b[0m         \u001b[1;32mreturn\u001b[0m \u001b[0mim\u001b[0m\u001b[1;33m,\u001b[0m\u001b[1;33m\u001b[0m\u001b[1;33m\u001b[0m\u001b[0m\n\u001b[0;32m     14\u001b[0m \u001b[1;33m\u001b[0m\u001b[0m\n\u001b[1;32m---> 15\u001b[1;33m     \u001b[0manim\u001b[0m \u001b[1;33m=\u001b[0m \u001b[0manimation\u001b[0m\u001b[1;33m.\u001b[0m\u001b[0mFuncAnimation\u001b[0m\u001b[1;33m(\u001b[0m\u001b[0mfig\u001b[0m\u001b[1;33m,\u001b[0m \u001b[0manimate\u001b[0m\u001b[1;33m,\u001b[0m \u001b[0minit_func\u001b[0m\u001b[1;33m=\u001b[0m\u001b[0minit\u001b[0m\u001b[1;33m,\u001b[0m\u001b[0mframes\u001b[0m\u001b[1;33m=\u001b[0m\u001b[0mnb_iter\u001b[0m\u001b[1;33m)\u001b[0m\u001b[1;33m\u001b[0m\u001b[1;33m\u001b[0m\u001b[0m\n\u001b[0m\u001b[0;32m     16\u001b[0m     \u001b[1;32mreturn\u001b[0m\u001b[1;33m(\u001b[0m\u001b[0manim\u001b[0m\u001b[1;33m)\u001b[0m\u001b[1;33m\u001b[0m\u001b[1;33m\u001b[0m\u001b[0m\n",
      "\u001b[1;31mAttributeError\u001b[0m: 'function' object has no attribute 'FuncAnimation'"
     ]
    }
   ],
   "source": [
    "animation(Z,40)"
   ]
  }
 ],
 "metadata": {
  "kernelspec": {
   "display_name": "Python 3",
   "language": "python",
   "name": "python3"
  },
  "language_info": {
   "codemirror_mode": {
    "name": "ipython",
    "version": 3
   },
   "file_extension": ".py",
   "mimetype": "text/x-python",
   "name": "python",
   "nbconvert_exporter": "python",
   "pygments_lexer": "ipython3",
   "version": "3.7.4"
  }
 },
 "nbformat": 4,
 "nbformat_minor": 2
}
