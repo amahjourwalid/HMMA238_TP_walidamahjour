{
 "cells": [
  {
   "cell_type": "markdown",
   "metadata": {},
   "source": [
    "# AMAHJOUR Walid TP \" Le jeu de la vie\"\n"
   ]
  },
  {
   "cell_type": "markdown",
   "metadata": {},
   "source": [
    "# Sommaire \n"
   ]
  },
  {
   "cell_type": "code",
   "execution_count": 2,
   "metadata": {},
   "outputs": [],
   "source": [
    "import numpy as np\n",
    "import matplotlib.pyplot as plt\n",
    "from matplotlib import animation"
   ]
  },
  {
   "cell_type": "code",
   "execution_count": 4,
   "metadata": {},
   "outputs": [
    {
     "name": "stdout",
     "output_type": "stream",
     "text": [
      "le reste est 0.\n"
     ]
    }
   ],
   "source": [
    "filename = \"HMMA238_TP_walidamahjour.ipynb\"\n",
    "taille_str = len(filename)\n",
    "ma_graine = taille_str % 6\n",
    "print(\"le reste est {}.\".format(ma_graine))"
   ]
  },
  {
   "cell_type": "code",
   "execution_count": 5,
   "metadata": {},
   "outputs": [],
   "source": [
    "def calcul_nb_voisins(Z):\n",
    "    \"\"\" \n",
    "    La fonction calcul le nombre de voisins vivants de chaque cellule dans la mtrice Z \n",
    "       (si cette derinère ne quontient que 0 et 1) .\n",
    "    Argument : Z-liste de listes\n",
    "    Returns : N matrice de même taille que Z ou chaque élément est la somme des 8 coéfficients des cellules voisines \n",
    "    \n",
    "    \"\"\"\n",
    "    forme = len(Z), len(Z[0])##\n",
    "    N = [[0, ] * (forme[0]) for i in range(forme[1])]\n",
    "    for x in range(1, forme[0] - 1):\n",
    "        for y in range(1, forme[1] - 1):\n",
    "            N[x][y] = Z[x-1][y-1]+Z[x][y-1]+Z[x+1][y-1] \\\n",
    "              + Z[x-1][y] + 0 +Z[x+1][y] \\\n",
    "            + Z[x-1][y+1]+Z[x][y+1]+Z[x+1][y+1]\n",
    "    return N"
   ]
  },
  {
   "cell_type": "code",
   "execution_count": 6,
   "metadata": {},
   "outputs": [],
   "source": [
    "Z = [[0,0,0,0,0,0],\n",
    "    [0,0,0,1,0,0],\n",
    "    [0,1,0,1,0,0],\n",
    "    [0,0,1,1,0,0],\n",
    "    [0,0,0,0,0,0],\n",
    "    [0,0,0,0,0,0]]"
   ]
  },
  {
   "cell_type": "code",
   "execution_count": 7,
   "metadata": {},
   "outputs": [
    {
     "data": {
      "text/plain": [
       "[[0, 0, 0, 0, 0, 0],\n",
       " [0, 1, 3, 1, 2, 0],\n",
       " [0, 1, 5, 3, 3, 0],\n",
       " [0, 2, 3, 2, 2, 0],\n",
       " [0, 1, 2, 2, 1, 0],\n",
       " [0, 0, 0, 0, 0, 0]]"
      ]
     },
     "execution_count": 7,
     "metadata": {},
     "output_type": "execute_result"
    }
   ],
   "source": [
    "calcul_nb_voisins(Z)"
   ]
  },
  {
   "cell_type": "markdown",
   "metadata": {},
   "source": [
    "calcul nb_voisin calcul le nombre de voisin de chaque cellule sans prendre en compte la première et la dernière ligne et la première et la dernière colone \n"
   ]
  },
  {
   "cell_type": "code",
   "execution_count": 8,
   "metadata": {},
   "outputs": [],
   "source": [
    "def iteration_jeu(Z):\n",
    "    \n",
    "    \"\"\" \n",
    "     \n",
    "    Arguments :Z-liste de listes (matrice)\n",
    "    Returns   :Z liste de listes représentant l'état des cellules après une itteration  \n",
    "    \n",
    "    \n",
    "    \n",
    "    Realisation d'une itertion du jeu de la vie avec une matrice \n",
    "    (si la cellule est vivante  et son nombre de voisins et (0 ou 1) ou bien (N[x][y]>3) la cellule meurt donc reçoit 0 )\n",
    "     (si la cellule est morte est son nobre de voisins est égale à 3 elle renaît donc reçoit 1 )\n",
    "    \"\"\"    \n",
    "    forme = len(Z), len(Z[0])\n",
    "    N = calcul_nb_voisins(Z)\n",
    "    for x in range(1,forme[0]-1):\n",
    "        for y in range(1,forme[1]-1):\n",
    "            if Z[x][y] == 1 and (N[x][y] < 2 or N[x][y] > 3):\n",
    "                Z[x][y] = 0\n",
    "            elif Z[x][y] == 0 and N[x][y] == 3:\n",
    "                 Z[x][y] = 1\n",
    "    return Z"
   ]
  },
  {
   "cell_type": "code",
   "execution_count": 7,
   "metadata": {},
   "outputs": [
    {
     "name": "stdout",
     "output_type": "stream",
     "text": [
      "[[0, 0, 0, 0, 0, 0], [0, 0, 1, 0, 0, 0], [0, 0, 0, 1, 1, 0], [0, 0, 1, 1, 0, 0], [0, 0, 0, 0, 0, 0], [0, 0, 0, 0, 0, 0]]\n"
     ]
    }
   ],
   "source": [
    "N=iteration_jeu(Z)\n",
    "print(N)"
   ]
  },
  {
   "cell_type": "code",
   "execution_count": 54,
   "metadata": {},
   "outputs": [],
   "source": [
    "def affichage_9(Z):\n",
    "    \"\"\"\n",
    "    Arguments : Z - liste de listes\n",
    "    Returns   : Image (10 figures )\n",
    "    \n",
    "    \"\"\"\n",
    "    plt.subplots(figsize=(25,15)) # céer plusieurs plots de taille 25x15 \n",
    "    for i in range(10):\n",
    "        axs = plt.subplot(2,5,i+1)# creation de chaque subplot en 2 lignes et 5 colonnes \n",
    "        plt.imshow(Z,cmap=\"binary\", extent=[0,len(Z[0]),0,len(Z)],) # on utilise plt.imshow pour délimiter le cadre suivant les coordonnées(extent=..) que l'image remplira \n",
    "        plt.grid(True) # ajouter des grilles \n",
    "        axs.set_xticks(range(0,len(Z[0]),1,))\n",
    "        plt.title('Itération ' + str(i)) # ajouter le titre de chaque itertion \n",
    "               \n",
    "        Z = iteration_jeu(Z) \n",
    "\n",
    "    plt.show() # afficher toutes les figures "
   ]
  },
  {
   "cell_type": "code",
   "execution_count": 55,
   "metadata": {},
   "outputs": [
    {
     "data": {
      "image/png": "[encoded data removed]",
      "text/plain": [
       "<Figure size 1800x1080 with 10 Axes>"
      ]
     },
     "metadata": {
      "needs_background": "light"
     },
     "output_type": "display_data"
    }
   ],
   "source": [
    "affichage_9(Z)"
   ]
  },
  {
   "cell_type": "markdown",
   "metadata": {},
   "source": [
    "on remarque qu'à partir de la 7 éme iteration, le nombre de cellule vivantes se stabilise à 4 "
   ]
  },
  {
   "cell_type": "code",
   "execution_count": 91,
   "metadata": {},
   "outputs": [],
   "source": [
    "vect = np.array([0,1,0,0,1,1])\n",
    "nb_vect = np.zeros(vect.shape)\n",
    "nb_vect[1:-1] += (vect[:-2] + vect[2:])\n",
    "## le nb_vect represente le nombre de voisins vivants de chaque cellule, et on a toujours des zeros dans les extremitées(les bornes ne sont pas comptées )\n",
    "\n"
   ]
  },
  {
   "cell_type": "code",
   "execution_count": 95,
   "metadata": {},
   "outputs": [],
   "source": [
    " Z=np.asarray(Z)\n",
    "def calcul_nb_voisins_np(Z):\n",
    "    \n",
    "    N= np.zeros(np.shape(Z))\n",
    "    N[1:-1, 1:-1] = Z[0:-2, 0:-2] + Z[:-2, 2:] + Z[2:, :-2] + Z[:-2, 1:-1] + \\\n",
    "        Z[1:-1, 2:] + Z[1:-1, :-2] + Z[2:, 1:-1] + Z[2:, 2:]\n",
    "    return(N)   \n",
    "    "
   ]
  },
  {
   "cell_type": "code",
   "execution_count": 96,
   "metadata": {},
   "outputs": [
    {
     "data": {
      "text/plain": [
       "array([[0., 0., 0., 0., 0., 0.],\n",
       "       [0., 1., 3., 1., 2., 0.],\n",
       "       [0., 1., 5., 3., 3., 0.],\n",
       "       [0., 2., 3., 2., 2., 0.],\n",
       "       [0., 1., 2., 2., 1., 0.],\n",
       "       [0., 0., 0., 0., 0., 0.]])"
      ]
     },
     "execution_count": 96,
     "metadata": {},
     "output_type": "execute_result"
    }
   ],
   "source": [
    "calcul_nb_voisins_np(Z)"
   ]
  },
  {
   "cell_type": "code",
   "execution_count": 99,
   "metadata": {},
   "outputs": [],
   "source": [
    "def iteration_jeu_np(Z):\n",
    "   \n",
    "    \n",
    "    if not isinstance(Z, np.ndarray):\n",
    "        Z = np.array(Z)\n",
    "        old_Z = Z.copy()\n",
    "        N = calcul_nb_voisins_np(Z)\n",
    "        new_born = np.where((old_Z == 0) & (N == 3))\n",
    "        Z[new_born] = 1\n",
    "        isolat_overpop = np.where((old_Z == 1) & ((N == 1) | (N > 3)))\n",
    "        Z[isolat_overpop] = 0\n",
    "    return Z"
   ]
  },
  {
   "cell_type": "code",
   "execution_count": 101,
   "metadata": {},
   "outputs": [
    {
     "data": {
      "text/plain": [
       "array([[0, 0, 0, 0, 0, 0],\n",
       "       [0, 0, 0, 1, 0, 0],\n",
       "       [0, 1, 0, 1, 0, 0],\n",
       "       [0, 0, 1, 1, 0, 0],\n",
       "       [0, 0, 0, 0, 0, 0],\n",
       "       [0, 0, 0, 0, 0, 0]])"
      ]
     },
     "execution_count": 101,
     "metadata": {},
     "output_type": "execute_result"
    }
   ],
   "source": [
    "iteration_jeu_np(Z)\n"
   ]
  },
  {
   "cell_type": "code",
   "execution_count": null,
   "metadata": {},
   "outputs": [],
   "source": []
  }
 ],
 "metadata": {
  "kernelspec": {
   "display_name": "Python 3",
   "language": "python",
   "name": "python3"
  },
  "language_info": {
   "codemirror_mode": {
    "name": "ipython",
    "version": 3
   },
   "file_extension": ".py",
   "mimetype": "text/x-python",
   "name": "python",
   "nbconvert_exporter": "python",
   "pygments_lexer": "ipython3",
   "version": "3.7.4"
  }
 },
 "nbformat": 4,
 "nbformat_minor": 2
}
